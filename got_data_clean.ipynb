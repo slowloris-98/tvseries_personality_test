{
 "cells": [
  {
   "cell_type": "code",
   "execution_count": 1,
   "metadata": {},
   "outputs": [
    {
     "name": "stdout",
     "output_type": "stream",
     "text": [
      "  Release Date    Season    Episode     Episode Title          Name  \\\n",
      "0   2011-04-17  Season 1  Episode 1  Winter is Coming  waymar royce   \n",
      "1   2011-04-17  Season 1  Episode 1  Winter is Coming          will   \n",
      "2   2011-04-17  Season 1  Episode 1  Winter is Coming  waymar royce   \n",
      "3   2011-04-17  Season 1  Episode 1  Winter is Coming          will   \n",
      "4   2011-04-17  Season 1  Episode 1  Winter is Coming         gared   \n",
      "\n",
      "                                            Sentence  \n",
      "0  What do you expect? They're savages. One lot s...  \n",
      "1  I've never seen wildlings do a thing like this...  \n",
      "2                             How close did you get?  \n",
      "3                            Close as any man would.  \n",
      "4                   We should head back to the wall.  \n"
     ]
    }
   ],
   "source": [
    "import pandas as pd\n",
    "\n",
    "# Replace 'your_file.csv' with the actual path to your file\n",
    "file_path = 'dataset\\got_all_scripts\\Game_of_Thrones_Script.csv'\n",
    "data = pd.read_csv(file_path)\n",
    "\n",
    "# Preview the first few rows of your dataset\n",
    "print(data.head())"
   ]
  },
  {
   "cell_type": "code",
   "execution_count": 2,
   "metadata": {},
   "outputs": [],
   "source": [
    "df = data[['Name', 'Sentence']]"
   ]
  },
  {
   "cell_type": "code",
   "execution_count": 3,
   "metadata": {},
   "outputs": [],
   "source": [
    "# Group by 'Name' and aggregate 'Sentence' into a list\n",
    "df = df.groupby('Name')['Sentence'].agg(list).reset_index()\n",
    "\n",
    "# Count the number of sentences for each name\n",
    "df['Sentence_Count'] = df['Sentence'].apply(len)\n",
    "\n",
    "# Sort by 'Sentence_Count' in descending order\n",
    "df = df.sort_values(by='Sentence_Count', ascending=False)\n",
    "\n",
    "# Get the top 50 names\n",
    "df = df[df['Name'] != 'man']\n",
    "df = df[df['Name'] != 'soldier']\n",
    "# Get the top 50 names and reset index\n",
    "df = df.head(26).reset_index(drop=True)"
   ]
  },
  {
   "cell_type": "code",
   "execution_count": null,
   "metadata": {},
   "outputs": [],
   "source": [
    "df"
   ]
  },
  {
   "cell_type": "code",
   "execution_count": 45,
   "metadata": {},
   "outputs": [],
   "source": [
    "df.to_csv('dataset\\got_all_scripts\\got_data_cleaned.csv', index=False)"
   ]
  },
  {
   "cell_type": "code",
   "execution_count": null,
   "metadata": {},
   "outputs": [],
   "source": [
    "len(df.iloc[0].Sentence)"
   ]
  }
 ],
 "metadata": {
  "kernelspec": {
   "display_name": "base",
   "language": "python",
   "name": "python3"
  },
  "language_info": {
   "codemirror_mode": {
    "name": "ipython",
    "version": 3
   },
   "file_extension": ".py",
   "mimetype": "text/x-python",
   "name": "python",
   "nbconvert_exporter": "python",
   "pygments_lexer": "ipython3",
   "version": "3.11.7"
  }
 },
 "nbformat": 4,
 "nbformat_minor": 2
}
